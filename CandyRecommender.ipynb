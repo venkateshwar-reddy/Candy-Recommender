{
  "nbformat": 4,
  "nbformat_minor": 0,
  "metadata": {
    "colab": {
      "name": "CandyRecommender.ipynb",
      "provenance": []
    },
    "kernelspec": {
      "name": "python3",
      "display_name": "Python 3"
    },
    "accelerator": "GPU"
  },
  "cells": [
    {
      "cell_type": "code",
      "metadata": {
        "id": "6dEw7piNbHtG",
        "colab_type": "code",
        "colab": {
          "base_uri": "https://localhost:8080/",
          "height": 121
        },
        "outputId": "4228186b-07aa-41b5-9f12-752b609ff295"
      },
      "source": [
        "from google.colab import drive\n",
        "drive.mount('/content/gdrive')"
      ],
      "execution_count": 2,
      "outputs": [
        {
          "output_type": "stream",
          "text": [
            "Go to this URL in a browser: https://accounts.google.com/o/oauth2/auth?client_id=947318989803-6bn6qk8qdgf4n4g3pfee6491hc0brc4i.apps.googleusercontent.com&redirect_uri=urn%3aietf%3awg%3aoauth%3a2.0%3aoob&scope=email%20https%3a%2f%2fwww.googleapis.com%2fauth%2fdocs.test%20https%3a%2f%2fwww.googleapis.com%2fauth%2fdrive%20https%3a%2f%2fwww.googleapis.com%2fauth%2fdrive.photos.readonly%20https%3a%2f%2fwww.googleapis.com%2fauth%2fpeopleapi.readonly&response_type=code\n",
            "\n",
            "Enter your authorization code:\n",
            "··········\n",
            "Mounted at /content/gdrive\n"
          ],
          "name": "stdout"
        }
      ]
    },
    {
      "cell_type": "code",
      "metadata": {
        "id": "CxdvB4wCV3tk",
        "colab_type": "code",
        "colab": {
          "base_uri": "https://localhost:8080/",
          "height": 302
        },
        "outputId": "045aa111-0af9-487d-cfda-595599273765"
      },
      "source": [
        "! pip install lightfm"
      ],
      "execution_count": 3,
      "outputs": [
        {
          "output_type": "stream",
          "text": [
            "Collecting lightfm\n",
            "\u001b[?25l  Downloading https://files.pythonhosted.org/packages/e9/8e/5485ac5a8616abe1c673d1e033e2f232b4319ab95424b42499fabff2257f/lightfm-1.15.tar.gz (302kB)\n",
            "\r\u001b[K     |█                               | 10kB 24.2MB/s eta 0:00:01\r\u001b[K     |██▏                             | 20kB 3.0MB/s eta 0:00:01\r\u001b[K     |███▎                            | 30kB 4.1MB/s eta 0:00:01\r\u001b[K     |████▍                           | 40kB 4.5MB/s eta 0:00:01\r\u001b[K     |█████▍                          | 51kB 3.6MB/s eta 0:00:01\r\u001b[K     |██████▌                         | 61kB 4.0MB/s eta 0:00:01\r\u001b[K     |███████▋                        | 71kB 4.4MB/s eta 0:00:01\r\u001b[K     |████████▊                       | 81kB 4.8MB/s eta 0:00:01\r\u001b[K     |█████████▊                      | 92kB 5.2MB/s eta 0:00:01\r\u001b[K     |██████████▉                     | 102kB 4.8MB/s eta 0:00:01\r\u001b[K     |████████████                    | 112kB 4.8MB/s eta 0:00:01\r\u001b[K     |█████████████                   | 122kB 4.8MB/s eta 0:00:01\r\u001b[K     |██████████████                  | 133kB 4.8MB/s eta 0:00:01\r\u001b[K     |███████████████▏                | 143kB 4.8MB/s eta 0:00:01\r\u001b[K     |████████████████▎               | 153kB 4.8MB/s eta 0:00:01\r\u001b[K     |█████████████████▍              | 163kB 4.8MB/s eta 0:00:01\r\u001b[K     |██████████████████▍             | 174kB 4.8MB/s eta 0:00:01\r\u001b[K     |███████████████████▌            | 184kB 4.8MB/s eta 0:00:01\r\u001b[K     |████████████████████▋           | 194kB 4.8MB/s eta 0:00:01\r\u001b[K     |█████████████████████▊          | 204kB 4.8MB/s eta 0:00:01\r\u001b[K     |██████████████████████▊         | 215kB 4.8MB/s eta 0:00:01\r\u001b[K     |███████████████████████▉        | 225kB 4.8MB/s eta 0:00:01\r\u001b[K     |█████████████████████████       | 235kB 4.8MB/s eta 0:00:01\r\u001b[K     |██████████████████████████      | 245kB 4.8MB/s eta 0:00:01\r\u001b[K     |███████████████████████████     | 256kB 4.8MB/s eta 0:00:01\r\u001b[K     |████████████████████████████▏   | 266kB 4.8MB/s eta 0:00:01\r\u001b[K     |█████████████████████████████▎  | 276kB 4.8MB/s eta 0:00:01\r\u001b[K     |██████████████████████████████▍ | 286kB 4.8MB/s eta 0:00:01\r\u001b[K     |███████████████████████████████▍| 296kB 4.8MB/s eta 0:00:01\r\u001b[K     |████████████████████████████████| 307kB 4.8MB/s \n",
            "\u001b[?25hRequirement already satisfied: numpy in /usr/local/lib/python3.6/dist-packages (from lightfm) (1.18.5)\n",
            "Requirement already satisfied: scipy>=0.17.0 in /usr/local/lib/python3.6/dist-packages (from lightfm) (1.4.1)\n",
            "Requirement already satisfied: requests in /usr/local/lib/python3.6/dist-packages (from lightfm) (2.23.0)\n",
            "Requirement already satisfied: certifi>=2017.4.17 in /usr/local/lib/python3.6/dist-packages (from requests->lightfm) (2020.6.20)\n",
            "Requirement already satisfied: idna<3,>=2.5 in /usr/local/lib/python3.6/dist-packages (from requests->lightfm) (2.10)\n",
            "Requirement already satisfied: urllib3!=1.25.0,!=1.25.1,<1.26,>=1.21.1 in /usr/local/lib/python3.6/dist-packages (from requests->lightfm) (1.24.3)\n",
            "Requirement already satisfied: chardet<4,>=3.0.2 in /usr/local/lib/python3.6/dist-packages (from requests->lightfm) (3.0.4)\n",
            "Building wheels for collected packages: lightfm\n",
            "  Building wheel for lightfm (setup.py) ... \u001b[?25l\u001b[?25hdone\n",
            "  Created wheel for lightfm: filename=lightfm-1.15-cp36-cp36m-linux_x86_64.whl size=707629 sha256=997e651f28371aa41adcb14bbb0ce27bec23351face2e7353b9feaf2d47ee7f6\n",
            "  Stored in directory: /root/.cache/pip/wheels/eb/bb/ac/188385a5da6627956be5d9663928483b36da576149ab5b8f79\n",
            "Successfully built lightfm\n",
            "Installing collected packages: lightfm\n",
            "Successfully installed lightfm-1.15\n"
          ],
          "name": "stdout"
        }
      ]
    },
    {
      "cell_type": "code",
      "metadata": {
        "id": "a2TAoSlNf35V",
        "colab_type": "code",
        "colab": {}
      },
      "source": [
        "import pandas as pd\n",
        "import numpy as np\n",
        "import os"
      ],
      "execution_count": 4,
      "outputs": []
    },
    {
      "cell_type": "code",
      "metadata": {
        "id": "6FYlg1bef6Rf",
        "colab_type": "code",
        "colab": {}
      },
      "source": [
        "path='/content/gdrive/My Drive/Project Candy/'\n",
        "candy_filename = 'candy.csv'\n",
        "df_candy = pd.read_csv(\n",
        "    os.path.join(path, candy_filename))"
      ],
      "execution_count": 5,
      "outputs": []
    },
    {
      "cell_type": "code",
      "metadata": {
        "id": "AjYljrUOhHiX",
        "colab_type": "code",
        "colab": {
          "base_uri": "https://localhost:8080/",
          "height": 402
        },
        "outputId": "cba26e6c-249c-4027-aa78-991ff03510e7"
      },
      "source": [
        "df_candy"
      ],
      "execution_count": 6,
      "outputs": [
        {
          "output_type": "execute_result",
          "data": {
            "text/html": [
              "<div>\n",
              "<style scoped>\n",
              "    .dataframe tbody tr th:only-of-type {\n",
              "        vertical-align: middle;\n",
              "    }\n",
              "\n",
              "    .dataframe tbody tr th {\n",
              "        vertical-align: top;\n",
              "    }\n",
              "\n",
              "    .dataframe thead th {\n",
              "        text-align: right;\n",
              "    }\n",
              "</style>\n",
              "<table border=\"1\" class=\"dataframe\">\n",
              "  <thead>\n",
              "    <tr style=\"text-align: right;\">\n",
              "      <th></th>\n",
              "      <th>item</th>\n",
              "      <th>user</th>\n",
              "      <th>review</th>\n",
              "    </tr>\n",
              "  </thead>\n",
              "  <tbody>\n",
              "    <tr>\n",
              "      <th>0</th>\n",
              "      <td>Reese's Peanut Butter Cups Miniatures</td>\n",
              "      <td>darlene90</td>\n",
              "      <td>5</td>\n",
              "    </tr>\n",
              "    <tr>\n",
              "      <th>1</th>\n",
              "      <td>Reese's Peanut Butter Cups Miniatures</td>\n",
              "      <td>taylordarlene</td>\n",
              "      <td>4</td>\n",
              "    </tr>\n",
              "    <tr>\n",
              "      <th>2</th>\n",
              "      <td>Reese's Peanut Butter Cups Miniatures</td>\n",
              "      <td>aliciadennis</td>\n",
              "      <td>5</td>\n",
              "    </tr>\n",
              "    <tr>\n",
              "      <th>3</th>\n",
              "      <td>Reese's Peanut Butter Cups Miniatures</td>\n",
              "      <td>ocook</td>\n",
              "      <td>5</td>\n",
              "    </tr>\n",
              "    <tr>\n",
              "      <th>4</th>\n",
              "      <td>Reese's Peanut Butter Cups Miniatures</td>\n",
              "      <td>chad38</td>\n",
              "      <td>5</td>\n",
              "    </tr>\n",
              "    <tr>\n",
              "      <th>...</th>\n",
              "      <td>...</td>\n",
              "      <td>...</td>\n",
              "      <td>...</td>\n",
              "    </tr>\n",
              "    <tr>\n",
              "      <th>17229</th>\n",
              "      <td>Hershey's Nuggets Chocolate Assortment</td>\n",
              "      <td>acostanoah</td>\n",
              "      <td>5</td>\n",
              "    </tr>\n",
              "    <tr>\n",
              "      <th>17230</th>\n",
              "      <td>Hershey's Nuggets Chocolate Assortment</td>\n",
              "      <td>jeffrey01</td>\n",
              "      <td>5</td>\n",
              "    </tr>\n",
              "    <tr>\n",
              "      <th>17231</th>\n",
              "      <td>Hershey's Nuggets Chocolate Assortment</td>\n",
              "      <td>powellmegan</td>\n",
              "      <td>5</td>\n",
              "    </tr>\n",
              "    <tr>\n",
              "      <th>17232</th>\n",
              "      <td>Hershey's Nuggets Chocolate Assortment</td>\n",
              "      <td>benjaminjohnson</td>\n",
              "      <td>5</td>\n",
              "    </tr>\n",
              "    <tr>\n",
              "      <th>17233</th>\n",
              "      <td>Hershey's Nuggets Chocolate Assortment</td>\n",
              "      <td>xrichards</td>\n",
              "      <td>5</td>\n",
              "    </tr>\n",
              "  </tbody>\n",
              "</table>\n",
              "<p>17234 rows × 3 columns</p>\n",
              "</div>"
            ],
            "text/plain": [
              "                                         item             user  review\n",
              "0       Reese's Peanut Butter Cups Miniatures        darlene90       5\n",
              "1       Reese's Peanut Butter Cups Miniatures    taylordarlene       4\n",
              "2       Reese's Peanut Butter Cups Miniatures     aliciadennis       5\n",
              "3       Reese's Peanut Butter Cups Miniatures            ocook       5\n",
              "4       Reese's Peanut Butter Cups Miniatures           chad38       5\n",
              "...                                       ...              ...     ...\n",
              "17229  Hershey's Nuggets Chocolate Assortment       acostanoah       5\n",
              "17230  Hershey's Nuggets Chocolate Assortment        jeffrey01       5\n",
              "17231  Hershey's Nuggets Chocolate Assortment      powellmegan       5\n",
              "17232  Hershey's Nuggets Chocolate Assortment  benjaminjohnson       5\n",
              "17233  Hershey's Nuggets Chocolate Assortment        xrichards       5\n",
              "\n",
              "[17234 rows x 3 columns]"
            ]
          },
          "metadata": {
            "tags": []
          },
          "execution_count": 6
        }
      ]
    },
    {
      "cell_type": "code",
      "metadata": {
        "id": "-z0G-XVaW1DZ",
        "colab_type": "code",
        "colab": {}
      },
      "source": [
        "user_list=np.sort(df_candy['user'].unique())\n",
        "item_list = df_candy['item'].unique()"
      ],
      "execution_count": 9,
      "outputs": []
    },
    {
      "cell_type": "code",
      "metadata": {
        "id": "njd1Mf_RXb6z",
        "colab_type": "code",
        "colab": {
          "base_uri": "https://localhost:8080/",
          "height": 34
        },
        "outputId": "3f37a662-cb28-42d3-ec7e-463685ffb40f"
      },
      "source": [
        "user_list.size"
      ],
      "execution_count": 10,
      "outputs": [
        {
          "output_type": "execute_result",
          "data": {
            "text/plain": [
              "2531"
            ]
          },
          "metadata": {
            "tags": []
          },
          "execution_count": 10
        }
      ]
    },
    {
      "cell_type": "code",
      "metadata": {
        "id": "JSnwXgjVXijf",
        "colab_type": "code",
        "colab": {
          "base_uri": "https://localhost:8080/",
          "height": 34
        },
        "outputId": "0b26e9a2-7ef8-4b0f-90c0-089b2dcd4538"
      },
      "source": [
        "item_list.size"
      ],
      "execution_count": 11,
      "outputs": [
        {
          "output_type": "execute_result",
          "data": {
            "text/plain": [
              "142"
            ]
          },
          "metadata": {
            "tags": []
          },
          "execution_count": 11
        }
      ]
    },
    {
      "cell_type": "code",
      "metadata": {
        "id": "bZdIDGcdXmme",
        "colab_type": "code",
        "colab": {}
      },
      "source": [
        "def id_mappings(user_list, item_list):\n",
        "    \"\"\"\n",
        "    \n",
        "    Create id mappings to convert user_id, item_id, and feature_id\n",
        "    \n",
        "    \"\"\"\n",
        "    user_to_index_mapping = {}\n",
        "    index_to_user_mapping = {}\n",
        "    for user_index, user_id in enumerate(user_list):\n",
        "        user_to_index_mapping[user_id] = user_index\n",
        "        index_to_user_mapping[user_index] = user_id\n",
        "        \n",
        "    item_to_index_mapping = {}\n",
        "    index_to_item_mapping = {}\n",
        "    for item_index, item_id in enumerate(item_list):\n",
        "        item_to_index_mapping[item_id] = item_index\n",
        "        index_to_item_mapping[item_index] = item_id\n",
        "        \n",
        "        \n",
        "        \n",
        "    return user_to_index_mapping, index_to_user_mapping, \\\n",
        "           item_to_index_mapping, index_to_item_mapping\n"
      ],
      "execution_count": 12,
      "outputs": []
    },
    {
      "cell_type": "code",
      "metadata": {
        "id": "-zVHOkcFZBk1",
        "colab_type": "code",
        "colab": {}
      },
      "source": [
        "user_to_index_mapping, index_to_user_mapping, \\\n",
        "           item_to_index_mapping, index_to_item_mapping = id_mappings(user_list, item_list)\n"
      ],
      "execution_count": 13,
      "outputs": []
    },
    {
      "cell_type": "code",
      "metadata": {
        "id": "9PY-2KSW7v1J",
        "colab_type": "code",
        "colab": {}
      },
      "source": [
        "from scipy.sparse import coo_matrix\n",
        "def get_interaction_matrix(df, df_column_as_row, df_column_as_col, df_column_as_value, row_indexing_map, \n",
        "                          col_indexing_map):\n",
        "    \n",
        "    row = df[df_column_as_row].apply(lambda x: row_indexing_map[x]).values\n",
        "    col = df[df_column_as_col].apply(lambda x: col_indexing_map[x]).values\n",
        "    value = df[df_column_as_value].values\n",
        "    \n",
        "    return coo_matrix((value, (row, col)), shape = (len(row_indexing_map), len(col_indexing_map)))"
      ],
      "execution_count": 14,
      "outputs": []
    },
    {
      "cell_type": "code",
      "metadata": {
        "id": "-ESAkAWc8qvB",
        "colab_type": "code",
        "colab": {}
      },
      "source": [
        "user_interaction = get_interaction_matrix(df_candy, \"user\", \n",
        "                                                    \"item\", \"review\", user_to_index_mapping, item_to_index_mapping)"
      ],
      "execution_count": 15,
      "outputs": []
    },
    {
      "cell_type": "code",
      "metadata": {
        "id": "d-HmoW3RCzRh",
        "colab_type": "code",
        "colab": {}
      },
      "source": [
        "from lightfm.cross_validation import random_train_test_split\n",
        "train,test=random_train_test_split(user_interaction, test_percentage=0.2, random_state=None)"
      ],
      "execution_count": 16,
      "outputs": []
    },
    {
      "cell_type": "code",
      "metadata": {
        "id": "BkzEhKzJ9YQe",
        "colab_type": "code",
        "colab": {
          "base_uri": "https://localhost:8080/",
          "height": 50
        },
        "outputId": "d139436e-c47d-4f20-f2fb-a560e822d7db"
      },
      "source": [
        "from lightfm import LightFM\n",
        "from lightfm.evaluation import precision_at_k\n",
        "from lightfm.evaluation import auc_score\n",
        "\n",
        "model = LightFM(learning_rate=0.05, loss='bpr')\n",
        "model.fit(train, epochs=10)\n",
        "\n",
        "train_precision = precision_at_k(model, train, k=10).mean()\n",
        "test_precision = precision_at_k(model, test, k=10).mean()\n",
        "\n",
        "train_auc = auc_score(model, train).mean()\n",
        "test_auc = auc_score(model, test).mean()\n",
        "\n",
        "print('Precision: train %.2f, test %.2f.' % (train_precision, test_precision))\n",
        "print('AUC: train %.2f, test %.2f.' % (train_auc, test_auc))\n"
      ],
      "execution_count": 17,
      "outputs": [
        {
          "output_type": "stream",
          "text": [
            "Precision: train 0.23, test 0.04.\n",
            "AUC: train 0.83, test 0.68.\n"
          ],
          "name": "stdout"
        }
      ]
    },
    {
      "cell_type": "code",
      "metadata": {
        "id": "wIIGBT-_-7v-",
        "colab_type": "code",
        "colab": {
          "base_uri": "https://localhost:8080/",
          "height": 50
        },
        "outputId": "0b94ad81-8f1c-4dee-c083-306417c8fa4f"
      },
      "source": [
        "model = LightFM(learning_rate=0.05, loss='warp')\n",
        "\n",
        "model.fit_partial(train, epochs=10)\n",
        "\n",
        "train_precision = precision_at_k(model, train, k=10).mean()\n",
        "test_precision = precision_at_k(model, test, k=10).mean()\n",
        "\n",
        "train_auc = auc_score(model, train).mean()\n",
        "test_auc = auc_score(model, test).mean()\n",
        "\n",
        "print('Precision: train %.2f, test %.2f.' % (train_precision, test_precision))\n",
        "print('AUC: train %.2f, test %.2f.' % (train_auc, test_auc))"
      ],
      "execution_count": 18,
      "outputs": [
        {
          "output_type": "stream",
          "text": [
            "Precision: train 0.30, test 0.05.\n",
            "AUC: train 0.90, test 0.75.\n"
          ],
          "name": "stdout"
        }
      ]
    },
    {
      "cell_type": "code",
      "metadata": {
        "id": "Uu9aJQ7WEbn3",
        "colab_type": "code",
        "colab": {
          "base_uri": "https://localhost:8080/",
          "height": 34
        },
        "outputId": "d5995481-f762-43ad-cc9a-71b92c74e659"
      },
      "source": [
        "model = LightFM(learning_rate=0.05, loss='warp')\n",
        "model.fit(user_interaction,epochs=10)"
      ],
      "execution_count": 19,
      "outputs": [
        {
          "output_type": "execute_result",
          "data": {
            "text/plain": [
              "<lightfm.lightfm.LightFM at 0x7f25b4315828>"
            ]
          },
          "metadata": {
            "tags": []
          },
          "execution_count": 19
        }
      ]
    },
    {
      "cell_type": "code",
      "metadata": {
        "id": "n38kIt15WETQ",
        "colab_type": "code",
        "colab": {}
      },
      "source": [
        "def sample_recommendation(model, user_interaction, user):\n",
        "    n_users, n_items = user_interaction.shape\n",
        "    \n",
        "    userindex = user_to_index_mapping.get(user, None)\n",
        "        \n",
        "    if userindex == None:\n",
        "      return None\n",
        "\n",
        "\n",
        "    scores = model.predict(userindex, np.arange(n_items))\n",
        "    top_items = item_list[np.argsort(-scores)]\n",
        "\n",
        "    known_positives=df_candy[df_candy['user']==user]['item']\n",
        "\n",
        "    print(\"User %s\" % user)\n",
        "    print(\"   --Rated Candies:\")\n",
        "\n",
        "    for x in known_positives[:5]:\n",
        "      print(\"        %s\" % x)\n",
        "\n",
        "    print(\"   --Recommended Candies:\")\n",
        "\n",
        "    for x in top_items[:5]:\n",
        "      print(\"        %s\" % x)"
      ],
      "execution_count": 29,
      "outputs": []
    },
    {
      "cell_type": "code",
      "metadata": {
        "id": "5V-h4RpUlbB6",
        "colab_type": "code",
        "colab": {
          "base_uri": "https://localhost:8080/",
          "height": 235
        },
        "outputId": "0fa17b81-0e6d-44cd-83af-72c569938d63"
      },
      "source": [
        "sample_recommendation(model, user_interaction, 'ocook')"
      ],
      "execution_count": 30,
      "outputs": [
        {
          "output_type": "stream",
          "text": [
            "User ocook\n",
            "   --Rated Candies:\n",
            "        Reese's Peanut Butter Cups Miniatures\n",
            "        Hershey's Cookies 'n' Creme Candy Bar\n",
            "        Swedish Fish Red Candy\n",
            "        Twix\n",
            "        Hershey's Milk Chocolate Bar\n",
            "   --Recommended Candies:\n",
            "        Hershey's Kisses Milk Chocolate\n",
            "        Twix\n",
            "        Hershey's Cookies 'n' Creme Candy Bar\n",
            "        Snickers Chocolate Bar\n",
            "        Starburst Original Fruit Chews\n"
          ],
          "name": "stdout"
        }
      ]
    },
    {
      "cell_type": "code",
      "metadata": {
        "id": "h-LU5Z1Xl11w",
        "colab_type": "code",
        "colab": {
          "base_uri": "https://localhost:8080/",
          "height": 235
        },
        "outputId": "2a588434-93bc-4ba8-8890-fd9ec9e2ee5f"
      },
      "source": [
        "sample_recommendation(model, user_interaction, 'darlene90')"
      ],
      "execution_count": 31,
      "outputs": [
        {
          "output_type": "stream",
          "text": [
            "User darlene90\n",
            "   --Rated Candies:\n",
            "        Reese's Peanut Butter Cups Miniatures\n",
            "        Hershey's Natural Unsweetened Cocoa\n",
            "        Haribo Happy Cola Gummi Candy\n",
            "        Hershey's Cookies 'n' Creme Candy Bar\n",
            "        Trolli Sour Brite Crawlers\n",
            "   --Recommended Candies:\n",
            "        Hershey's Cookies 'n' Creme Candy Bar\n",
            "        Reese's Peanut Butter Cups Miniatures\n",
            "        Ferrero Rocher Chocolate\n",
            "        Hershey's Kisses Milk Chocolate\n",
            "        Twix\n"
          ],
          "name": "stdout"
        }
      ]
    },
    {
      "cell_type": "code",
      "metadata": {
        "id": "-PRy4r_AQdNL",
        "colab_type": "code",
        "colab": {}
      },
      "source": [
        ""
      ],
      "execution_count": 31,
      "outputs": []
    }
  ]
}